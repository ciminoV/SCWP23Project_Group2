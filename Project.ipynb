{
 "cells": [
  {
   "cell_type": "markdown",
   "metadata": {},
   "source": [
    "# Game of Life\n",
    "\n",
    "\n",
    "The [Game of Life](http://en.wikipedia.org/wiki/Conway's_Game_of_Life) (GoF) is a cellular automaton devised by the British mathematician John Horton Conway in 1970. The game is a zero-player game, meaning that its evolution is determined by its initial state, requiring no further input. One interacts with the Game of Life by creating an initial configuration and observing how it evolves, or, for advanced players, by creating patterns with particular properties.\n",
    "\n",
    "The universe of the Game of Life is an infinite two-dimensional orthogonal grid of square cells, each of which is in one of two possible states, live or dead. Every cell interacts with its eight neighbours, which are the cells that are directly horizontally, vertically, or diagonally adjacent. At each step in time, the following transitions occur:\n",
    "\n",
    "* Any live cell with fewer than two live neighbours dies, as if by underpopulation.\n",
    "* Any live cell with more than three live neighbours dies, as if by overcrowding.\n",
    "* Any live cell with two or three live neighbours lives, unchanged, to the next generation.\n",
    "* Any dead cell with exactly three live neighbours becomes a live cell.\n",
    "\n",
    "The initial pattern (generation 0) constitutes the \"seed\" of the system.\n",
    "Time is considered discrete, and each time step (sometimes called a tick), the previous rules are applied simultaneously to every cell in the grid; \"births\" and \"deaths\" are immediate.\n",
    "Each generation is a pure function of the previous generation alone.\n",
    "\n",
    "\n",
    "## Assignments\n",
    "\n",
    "* Begin by implementing the GoF's rules and create few examples with basic seeds in small dimensions. Hint: create `.gif` animations from sequences of still `.png` images\n",
    "* Implement examples of the three categories of patterns *still lifes*, *oscillators* and *spaceships* (check the [wiki link](http://en.wikipedia.org/wiki/Conway's_Game_of_Life))\n",
    "* Analyse the evolutions of these patterns in terms of frequency (the number of cycles required to return to the original configuration, if any), occupancy (how many alive cells there are at every step of the game), replication or heat (the average number of cells that change state at each generation), speed (if applicable), etc.\n",
    "* Increase the size of the GoF's world and play with more advanced and complex patterns"
   ]
  },
  {
   "cell_type": "code",
   "execution_count": 26,
   "metadata": {},
   "outputs": [],
   "source": [
    "# Imports\n",
    "import numpy as np\n",
    "import matplotlib.pyplot as plt\n",
    "import matplotlib.animation as animation\n",
    "from IPython.display import Image"
   ]
  },
  {
   "cell_type": "code",
   "execution_count": 245,
   "metadata": {},
   "outputs": [],
   "source": [
    "ON = 255  # Alive cell value\n",
    "OFF = 0   # Dead cell value\n",
    "N = 100   # Size of the grid (N x N)\n",
    "\n",
    "def update(frameNum, img, grid, N):\n",
    "    newGrid = grid.copy()\n",
    "\n",
    "    for i in range(N):\n",
    "        for j in range(N):\n",
    "            total = int((grid[i, (j-1)%N] + grid[i, (j+1)%N] +\n",
    "                         grid[(i-1)%N, j] + grid[(i+1)%N, j] +\n",
    "                         grid[(i-1)%N, (j-1)%N] + grid[(i-1)%N, (j+1)%N] +\n",
    "                         grid[(i+1)%N, (j-1)%N] + grid[(i+1)%N, (j+1)%N]) / ON)\n",
    "\n",
    "            if grid[i, j] == ON:\n",
    "                if (total < 2) or (total > 3):\n",
    "                    newGrid[i, j] = OFF\n",
    "            else:\n",
    "                if total == 3:\n",
    "                    newGrid[i, j] = ON\n",
    "\n",
    "    img.set_data(newGrid)\n",
    "    grid[:] = newGrid[:]\n",
    "    return img\n",
    "\n",
    "\n",
    "def loadPattern(file_path, grid, i, j):\n",
    "    with open(file_path, 'r') as file:\n",
    "        lines = file.readlines()\n",
    "\n",
    "    # Remove whitespaces, and ignore lines starting with '!'\n",
    "    lines = [line.strip() for line in lines if not line.startswith('!')]\n",
    "\n",
    "    # Pad shorter lines with zeros to make them equal in length\n",
    "    max_length = max(len(line) for line in lines) \n",
    "    lines_padded = [line.ljust(max_length, '.') for line in lines]\n",
    "\n",
    "    # Insert pattern in the grid\n",
    "    pattern_array = np.array([[0 if cell == '.' else 255 for cell in line] for line in lines_padded])\n",
    "    grid[i:i+pattern_array.shape[0], j:j+pattern_array.shape[1]] = pattern_array\n",
    "\n",
    "\n",
    "def saveFrame(frameNum, img, grid, N):\n",
    "    plt.savefig(f'gof_frame_{frameNum:03d}.png', format='png')\n",
    "    return img\n",
    "\n",
    "def plotGeneration():\n",
    "    fig, ax = plt.subplots()\n",
    "    img = ax.imshow(grid, interpolation='nearest')\n",
    "    plt.show()"
   ]
  },
  {
   "cell_type": "code",
   "execution_count": 246,
   "metadata": {},
   "outputs": [
    {
     "data": {
      "text/html": [
       "<img src=\"random_example.gif\"/>"
      ],
      "text/plain": [
       "<IPython.core.display.Image object>"
      ]
     },
     "execution_count": 246,
     "metadata": {},
     "output_type": "execute_result"
    },
    {
     "data": {
      "text/plain": [
       "<Figure size 640x480 with 0 Axes>"
      ]
     },
     "metadata": {},
     "output_type": "display_data"
    }
   ],
   "source": [
    "# Random generation example\n",
    "grid = np.random.choice([ON, OFF], N*N, p=[0.2, 0.8]).reshape(N, N)\n",
    "\n",
    "# Set up the animation\n",
    "random_out = animation.FuncAnimation(fig, update, fargs=(img, grid, N,),\n",
    "                            frames=50, interval=100,\n",
    "                            init_func=lambda: saveFrame(0, img, grid, N))\n",
    "\n",
    "# Save and show animation\n",
    "gif_name = 'random_example.gif'\n",
    "random_out.save(gif_name, writer='pillow', fps=25)\n",
    "Image(url=gif_name)"
   ]
  },
  {
   "cell_type": "code",
   "execution_count": 248,
   "metadata": {},
   "outputs": [
    {
     "data": {
      "text/html": [
       "<img src=\"beehiveatloaf.gif\"/>"
      ],
      "text/plain": [
       "<IPython.core.display.Image object>"
      ]
     },
     "execution_count": 248,
     "metadata": {},
     "output_type": "execute_result"
    },
    {
     "data": {
      "text/plain": [
       "<Figure size 640x480 with 0 Axes>"
      ]
     },
     "metadata": {},
     "output_type": "display_data"
    }
   ],
   "source": [
    "# Still life example (period 1)\n",
    "\n",
    "# Load patterns from file.\n",
    "# Patterns can be find at https://conwaylife.com/patterns/ (Download the .cells file and save as .txt)\n",
    "pattern = 'beehiveatloaf.cells.txt'\n",
    "grid = np.zeros((N, N), dtype=int)\n",
    "\n",
    "loadPattern(pattern, grid, 50, 50)\n",
    "\n",
    "# Set up the animation\n",
    "output = animation.FuncAnimation(fig, update, fargs=(img, grid, N,),\n",
    "                              frames=50, interval=100,\n",
    "                              init_func=lambda: save_frame(0, img, grid, N))\n",
    "\n",
    "# To save the animation as a GIF using Pillow\n",
    "gif_name = 'beehiveatloaf.gif'\n",
    "output.save(gif_name, writer='pillow', fps=5)\n",
    "\n",
    "Image(url=gif_name)"
   ]
  },
  {
   "cell_type": "code",
   "execution_count": 249,
   "metadata": {},
   "outputs": [
    {
     "data": {
      "text/html": [
       "<img src=\"bigglider.gif\"/>"
      ],
      "text/plain": [
       "<IPython.core.display.Image object>"
      ]
     },
     "execution_count": 249,
     "metadata": {},
     "output_type": "execute_result"
    },
    {
     "data": {
      "text/plain": [
       "<Figure size 640x480 with 0 Axes>"
      ]
     },
     "metadata": {},
     "output_type": "display_data"
    }
   ],
   "source": [
    "# Glider example\n",
    "\n",
    "# Load patterns from file.\n",
    "# Patterns can be find at https://conwaylife.com/patterns/ (Download the .cells file and save as .txt)\n",
    "pattern = 'bigglider.cells.txt'\n",
    "grid = np.zeros((N, N), dtype=int)\n",
    "\n",
    "loadPattern(pattern, grid, 25, 25)\n",
    "\n",
    "# Set up the animation\n",
    "output = animation.FuncAnimation(fig, update, fargs=(img, grid, N,),\n",
    "                              frames=50, interval=100,\n",
    "                              init_func=lambda: save_frame(0, img, grid, N))\n",
    "\n",
    "# To save the animation as a GIF using Pillow\n",
    "gif_name = 'bigglider.gif'\n",
    "output.save(gif_name, writer='pillow', fps=5)\n",
    "\n",
    "Image(url=gif_name)"
   ]
  },
  {
   "cell_type": "code",
   "execution_count": 250,
   "metadata": {},
   "outputs": [
    {
     "data": {
      "text/html": [
       "<img src=\"pulsar_period3.gif\"/>"
      ],
      "text/plain": [
       "<IPython.core.display.Image object>"
      ]
     },
     "execution_count": 250,
     "metadata": {},
     "output_type": "execute_result"
    },
    {
     "data": {
      "text/plain": [
       "<Figure size 640x480 with 0 Axes>"
      ]
     },
     "metadata": {},
     "output_type": "display_data"
    }
   ],
   "source": [
    "# Oscillator example (period 3)\n",
    "\n",
    "# Load patterns from file.\n",
    "# Patterns can be find at https://conwaylife.com/patterns/ (Download the .cells file and save as .txt)\n",
    "pulsar_p3 = 'pulsar_cells.cells.txt'\n",
    "grid = np.zeros((N, N), dtype=int)\n",
    "\n",
    "loadPattern(pulsar_p3, grid, 3, 3)\n",
    "\n",
    "# Set up the animation\n",
    "output = animation.FuncAnimation(fig, update, fargs=(img, grid, N,),\n",
    "                              frames=50, interval=100,\n",
    "                              init_func=lambda: save_frame(0, img, grid, N))\n",
    "\n",
    "# To save the animation as a GIF using Pillow\n",
    "gif_name = 'pulsar_period3.gif'\n",
    "output.save(gif_name, writer='pillow', fps=5)\n",
    "\n",
    "Image(url=gif_name)"
   ]
  }
 ],
 "metadata": {
  "kernelspec": {
   "display_name": "Python 3 (ipykernel)",
   "language": "python",
   "name": "python3"
  },
  "language_info": {
   "codemirror_mode": {
    "name": "ipython",
    "version": 3
   },
   "file_extension": ".py",
   "mimetype": "text/x-python",
   "name": "python",
   "nbconvert_exporter": "python",
   "pygments_lexer": "ipython3",
   "version": "3.11.6"
  }
 },
 "nbformat": 4,
 "nbformat_minor": 4
}
