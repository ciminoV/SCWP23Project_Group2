{
 "cells": [
  {
   "cell_type": "markdown",
   "metadata": {},
   "source": [
    "# Game of Life\n",
    "\n",
    "\n",
    "The [Game of Life](http://en.wikipedia.org/wiki/Conway's_Game_of_Life) (GoF) is a cellular automaton devised by the British mathematician John Horton Conway in 1970. The game is a zero-player game, meaning that its evolution is determined by its initial state, requiring no further input. One interacts with the Game of Life by creating an initial configuration and observing how it evolves, or, for advanced players, by creating patterns with particular properties.\n",
    "\n",
    "The universe of the Game of Life is an infinite two-dimensional orthogonal grid of square cells, each of which is in one of two possible states, live or dead. Every cell interacts with its eight neighbours, which are the cells that are directly horizontally, vertically, or diagonally adjacent. At each step in time, the following transitions occur:\n",
    "\n",
    "* Any live cell with fewer than two live neighbours dies, as if by underpopulation.\n",
    "* Any live cell with more than three live neighbours dies, as if by overcrowding.\n",
    "* Any live cell with two or three live neighbours lives, unchanged, to the next generation.\n",
    "* Any dead cell with exactly three live neighbours becomes a live cell.\n",
    "\n",
    "The initial pattern (generation 0) constitutes the \"seed\" of the system.\n",
    "Time is considered discrete, and each time step (sometimes called a tick), the previous rules are applied simultaneously to every cell in the grid; \"births\" and \"deaths\" are immediate.\n",
    "Each generation is a pure function of the previous generation alone.\n",
    "\n",
    "\n",
    "## Assignments\n",
    "\n",
    "* Begin by implementing the GoF's rules and create few examples with basic seeds in small dimensions. Hint: create `.gif` animations from sequences of still `.png` images\n",
    "* Implement examples of the three categories of patterns *still lifes*, *oscillators* and *spaceships* (check the [wiki link](http://en.wikipedia.org/wiki/Conway's_Game_of_Life))\n",
    "* Analyse the evolutions of these patterns in terms of frequency (the number of cycles required to return to the original configuration, if any), occupancy (how many alive cells there are at every step of the game), replication or heat (the average number of cells that change state at each generation), speed (if applicable), etc.\n",
    "* Increase the size of the GoF's world and play with more advanced and complex patterns"
   ]
  },
  {
   "cell_type": "markdown",
   "metadata": {},
   "source": [
    "# Game of Life implementation"
   ]
  },
  {
   "cell_type": "code",
   "execution_count": null,
   "metadata": {},
   "outputs": [],
   "source": [
    "# Imports\n",
    "import copy\n",
    "import numpy as np\n",
    "import matplotlib.pyplot as plt\n",
    "import matplotlib.animation as animation\n",
    "from scipy import fftpack\n",
    "from functools import partial\n",
    "from IPython.display import Image"
   ]
  },
  {
   "cell_type": "markdown",
   "metadata": {},
   "source": [
    "To implement the Conway's Game of Life we use 3 functions:\n",
    "1. __update__: this function handles all the logic of the game and it's built to allows us to run some analysis on the evolution of the game.\n",
    "   1. It takes the present state (grid) and compute the future state (newGrid) according to the game's rules\n",
    "   2. If the _heat_ argument is passed, it computes the difference in occupancy between present and future grid, keeping track of changes and averaging it at the end of the animation\n",
    "   3. If _cycle_ and _initial_grid_ arguments are passed, it checks if the new computed condition is equal to the starting one, keeping track of when it happens\n",
    "   4. If the _occupancy_ argument is passed, it calculate how many cells are alive at that step\n",
    "2. __loadPattern__: this function allows us to import patterns written in txt file, saving us the time to manually implement them (More patterns can be found [here](https://conwaylife.com/patterns/)).\n",
    "3. __saveFrame__: this function saves a particular frame of the Game of Life animation"
   ]
  },
  {
   "cell_type": "code",
   "execution_count": null,
   "metadata": {},
   "outputs": [],
   "source": [
    "# Parameters\n",
    "ON = 255  # Alive cell value\n",
    "OFF = 0   # Dead cell value\n",
    "\n",
    "n_steps = 50 # Number of steps done in the game\n",
    "inter = 100 # Time in ms between each frame (step of the game) in the GIF\n",
    "\n",
    "\n",
    "def update(frame_num, img, grid, initial_grid=None, cycle=None, occupancy=None, heat=None):\n",
    "    # Create a new grid for future state\n",
    "    newGrid = grid.copy()\n",
    "\n",
    "    # Save the number of rows and columns\n",
    "    Nr = grid.shape[0]\n",
    "    Nc = grid.shape[1]\n",
    "    \n",
    "    for i in range(Nr):\n",
    "        for j in range(Nc):\n",
    "            # For each cell in the grid it calculate the number of neighbouring alive cells\n",
    "            total = int((grid[i, (j-1)%Nc] + grid[i, (j+1)%Nc] +\n",
    "                         grid[(i-1)%Nr, j] + grid[(i+1)%Nr, j] +\n",
    "                         grid[(i-1)%Nr, (j-1)%Nc] + grid[(i-1)%Nr, (j+1)%Nc] +\n",
    "                         grid[(i+1)%Nr, (j-1)%Nc] + grid[(i+1)%Nr, (j+1)%Nc]) / ON)\n",
    "\n",
    "            if grid[i, j] == ON:\n",
    "                if (total < 2) or (total > 3):\n",
    "                    newGrid[i, j] = OFF\n",
    "            else:\n",
    "                if total == 3:\n",
    "                    newGrid[i, j] = ON\n",
    "\n",
    "    img.set_data(newGrid)\n",
    "\n",
    "    # Keep track of how many cells change state\n",
    "    if heat is not None:\n",
    "        heat.append(np.sum(np.not_equal(grid,newGrid)))\n",
    "\n",
    "    # Check if the patterns has cycled or not\n",
    "    if initial_grid is not None and cycle is not None:\n",
    "        cycle.append(1 if np.array_equal(newGrid,initial_grid) else 0)\n",
    "\n",
    "    # Count how many alive cells\n",
    "    if occupancy is not None:\n",
    "        occupancy.append(np.sum(newGrid == ON))\n",
    "\n",
    "    # Update the grid\n",
    "    grid[:] = newGrid[:]\n",
    "    \n",
    "    return img\n",
    "\n",
    "\n",
    "def loadPattern(file_path, rows=None, columns=None, loc=(0,0)):\n",
    "    # Open file\n",
    "    with open(file_path, 'r') as file:\n",
    "        lines = file.readlines()\n",
    "\n",
    "    # Remove whitespaces and ignore lines starting with '!'\n",
    "    lines = [line.strip() for line in lines if not line.startswith('!')]\n",
    "\n",
    "    # Check if the number of rows and columns were specified\n",
    "    if rows == None:\n",
    "        rows = len(lines)\n",
    "    if columns == None:\n",
    "        columns = max(len(line) for line in lines) \n",
    "    \n",
    "    # Pad shorter lines with zeros to make them equal in length\n",
    "    max_length = max(len(line) for line in lines) \n",
    "    lines_padded = [line.ljust(max_length, '.') for line in lines]\n",
    "    \n",
    "    # Create the grid and the pattern\n",
    "    grid = np.zeros((rows, columns))\n",
    "    pattern = np.array([[0 if cell == '.' else 255 for cell in line] for line in lines_padded])\n",
    "    \n",
    "    # Check if parameters are ok\n",
    "    if loc[0] > rows or loc[1] > columns:\n",
    "        raise ValueError(\"Invalid location parameter\")\n",
    "    \n",
    "    if loc[0] + pattern.shape[0] > rows or loc[1] + pattern.shape[1] > columns:\n",
    "        raise ValueError(\"The pattern overflows the grid\")\n",
    "    \n",
    "    # Put the pattern in the grid\n",
    "    grid[loc[0]:loc[0]+pattern.shape[0], loc[1]:loc[1]+pattern.shape[1]] = pattern\n",
    "    \n",
    "    # Return the grid\n",
    "    return grid\n",
    "\n",
    "\n",
    "def saveFrame(frameNum, img):\n",
    "    plt.savefig(f'gof_frame_{frameNum:03d}.png', format='png')\n",
    "    return img\n",
    "\n",
    "\n",
    "def computeFFT(x):\n",
    "    fft = fftpack.fft(x)\n",
    "\n",
    "    power = np.abs(fft)\n",
    "    sample_freq = fftpack.fftfreq(len(x))\n",
    "\n",
    "    freqs = sample_freq[np.where(sample_freq > 0)]\n",
    "    powes = power[np.where(sample_freq > 0)]\n",
    "\n",
    "    peak_freq = freqs[powes.argmax()]\n",
    "\n",
    "    return round(1/peak_freq)\n",
    "    \n",
    "def analyseOccupancy(occupancy, check_freq=False):\n",
    "    n_occ = len(occupancy)\n",
    "\n",
    "    if n_occ > 0:\n",
    "        avg_occ = round(np.sum(occupancy) / n_occ)\n",
    "        print(f\"On average there are {avg_occ} alive cells in {n_occ} steps.\")\n",
    "\n",
    "    if check_freq:\n",
    "        print(f'The number of alive cells cycles every {computeFFT(occupancy)} steps')\n",
    "    \n",
    "    fig, ax = plt.subplots(figsize=(10, 5))\n",
    "    ax.plot(range(n_occ), occupancy, marker=\"o\", label='Occupancy')\n",
    "    ax.axhline(avg_occ,label='Avg. occupancy', color='r')\n",
    "    ax.set_xlabel(\"Time [unit step]\")\n",
    "    ax.set_ylabel('No. alive cells')\n",
    "    \n",
    "    plt.title('Occupancy vs time')\n",
    "    plt.legend()\n",
    "    plt.tight_layout()\n",
    "\n",
    "def analyseHeat(heat, check_freq=False):\n",
    "    n_heat = len(heat)\n",
    "\n",
    "    if n_heat > 0:\n",
    "        avg_heat = round(np.sum(heat) / n_heat)\n",
    "        print(f\"The average number of cells that change state at each generation is {avg_heat}.\")\n",
    "\n",
    "    if check_freq:\n",
    "        print(f\"The number of cells that change state cycles every {computeFFT(heat)} steps\")\n",
    "    \n",
    "    fig, ax = plt.subplots(figsize=(10, 5))\n",
    "    ax.plot(range(n_heat), heat, marker=\"o\", label='State changes')\n",
    "    ax.axhline(avg_heat, label='Avg. state changes', color='r')\n",
    "    ax.set_xlabel(\"Time [unit step]\")\n",
    "    ax.set_ylabel('No. of state change')\n",
    "    \n",
    "    plt.title('No. cells that change state vs time')\n",
    "    plt.legend()\n",
    "    plt.tight_layout()\n",
    "\n",
    "def analyseCycle(cycle):\n",
    "    n_cycle = len(cycle)\n",
    "\n",
    "    print(f\"The number of steps required to return to the original configuration is {computeFFT(cycle)}\")\n",
    "    \n",
    "    fig, ax = plt.subplots(figsize=(10, 5))\n",
    "    ax.plot(range(n_cycle), cycle, marker=\"o\")\n",
    "    ax.set_xlabel(\"Time [unit step]\")\n",
    "    ax.set_ylabel('Cycle')\n",
    "    \n",
    "    plt.title('Cycle vs Time')\n",
    "    plt.tight_layout()"
   ]
  },
  {
   "cell_type": "markdown",
   "metadata": {},
   "source": [
    "# Random example\n",
    "In this section we initialize the game with a random generatly seed and let it evolve."
   ]
  },
  {
   "cell_type": "code",
   "execution_count": null,
   "metadata": {},
   "outputs": [],
   "source": [
    "# Set the size of the grid\n",
    "N = 50\n",
    "\n",
    "# Generate a random grid\n",
    "random_grid = np.random.choice([ON, OFF], N*N, p=[0.2, 0.8]).reshape(N, N)\n",
    "\n",
    "# How many alive cells at each step\n",
    "random_occupancy = []\n",
    "\n",
    "# How many cells change state at each step\n",
    "random_heat = [];\n",
    "\n",
    "# Plot initial seed\n",
    "fig, ax = plt.subplots()\n",
    "img = ax.imshow(random_grid, interpolation='nearest')\n",
    "plt.plot()\n",
    "\n",
    "# Set up the animation and save the first frame\n",
    "random_out = animation.FuncAnimation(fig, \n",
    "                            partial(update, img = img, grid = random_grid,\n",
    "                                    occupancy = random_occupancy, heat = random_heat),\n",
    "                            frames = n_steps, interval = inter,\n",
    "                            init_func = lambda: saveFrame(0, img))"
   ]
  },
  {
   "cell_type": "code",
   "execution_count": null,
   "metadata": {},
   "outputs": [],
   "source": [
    "# Save and show animation\n",
    "gif_name = 'random_example.gif'\n",
    "random_out.save(gif_name, writer = 'pillow', fps = 5)\n",
    "\n",
    "Image(url=gif_name)"
   ]
  },
  {
   "cell_type": "markdown",
   "metadata": {},
   "source": [
    "## Analysis\n",
    "TODO: add comment"
   ]
  },
  {
   "cell_type": "code",
   "execution_count": null,
   "metadata": {},
   "outputs": [],
   "source": [
    "analyseOccupancy(random_occupancy)"
   ]
  },
  {
   "cell_type": "code",
   "execution_count": null,
   "metadata": {},
   "outputs": [],
   "source": [
    "analyseHeat(random_heat)"
   ]
  },
  {
   "cell_type": "markdown",
   "metadata": {},
   "source": [
    "# Still life example\n",
    "In this section we start with a particular pattern from the category called _Still life_.<br>\n",
    "As its name suggest, with this seed the game doesn't evolve: the alive cells are always the same both in number and in location, it's an equilibrium point."
   ]
  },
  {
   "cell_type": "code",
   "execution_count": null,
   "metadata": {},
   "outputs": [],
   "source": [
    "# Load pattern from file.\n",
    "still_pattern = 'beehiveatloaf.cells.txt'\n",
    "still_grid = loadPattern(still_pattern, 10, 10, (1, 2))\n",
    "\n",
    "# How many alive cells at each step\n",
    "still_occupancy = []\n",
    "\n",
    "# How many cells change state at each step\n",
    "still_heat = [];\n",
    "\n",
    "# Plot initial seed\n",
    "fig, ax = plt.subplots()\n",
    "img = ax.imshow(still_grid, interpolation='nearest')\n",
    "plt.plot()\n",
    "\n",
    "# Set up the animation and save the first frame\n",
    "still_out = animation.FuncAnimation(fig, partial(update, img=img, grid=still_grid,\n",
    "                                                occupancy=still_occupancy, heat=still_heat),\n",
    "                            frames=n_steps, interval=inter,\n",
    "                            init_func=lambda: saveFrame(0, img))"
   ]
  },
  {
   "cell_type": "code",
   "execution_count": null,
   "metadata": {},
   "outputs": [],
   "source": [
    "# Save and show animation\n",
    "gif_name = 'beehiveatloaf.gif'\n",
    "still_out.save(gif_name, writer='pillow', fps=2)\n",
    "\n",
    "Image(url=gif_name)"
   ]
  },
  {
   "cell_type": "markdown",
   "metadata": {},
   "source": [
    "## Analysis\n",
    "TODO: add comment"
   ]
  },
  {
   "cell_type": "code",
   "execution_count": null,
   "metadata": {},
   "outputs": [],
   "source": [
    "analyseOccupancy(still_occupancy)"
   ]
  },
  {
   "cell_type": "code",
   "execution_count": null,
   "metadata": {},
   "outputs": [],
   "source": [
    "analyseHeat(still_heat)"
   ]
  },
  {
   "cell_type": "markdown",
   "metadata": {},
   "source": [
    "# Glider example\n",
    "In this section we start with a particular pattern (_Big Glider_) from the category called _Spaceships_ for theirs similarity with an animation of an object flying in the sky.<br>"
   ]
  },
  {
   "cell_type": "code",
   "execution_count": null,
   "metadata": {},
   "outputs": [],
   "source": [
    "# Load patterns from file\n",
    "glider_pattern = 'bigglider.cells.txt'\n",
    "glider_grid = loadPattern(glider_pattern, 50, 50, (25,25))\n",
    "\n",
    "# How many alive cells at each step\n",
    "glider_occupancy = []\n",
    "\n",
    "# How many cells change state at each step\n",
    "glider_heat = [];\n",
    "\n",
    "# Plot initial seed\n",
    "fig, ax = plt.subplots()\n",
    "img = ax.imshow(glider_grid, interpolation='nearest')\n",
    "plt.plot()\n",
    "\n",
    "# Set up the animation\n",
    "glider_out = animation.FuncAnimation(fig, partial(update, img = img, grid = glider_grid, \n",
    "                                                  occupancy = glider_occupancy, heat = glider_heat),\n",
    "                            frames = n_steps, interval = inter,\n",
    "                            init_func = lambda: saveFrame(0, img))"
   ]
  },
  {
   "cell_type": "code",
   "execution_count": null,
   "metadata": {},
   "outputs": [],
   "source": [
    "# Save and show animation\n",
    "gif_name = 'bigglider.gif'\n",
    "glider_out.save(gif_name, writer='pillow', fps=4)\n",
    "\n",
    "\n",
    "Image(url=gif_name)"
   ]
  },
  {
   "cell_type": "markdown",
   "metadata": {},
   "source": [
    "## Analysis\n",
    "TODO: add comment"
   ]
  },
  {
   "cell_type": "code",
   "execution_count": null,
   "metadata": {},
   "outputs": [],
   "source": [
    "analyseOccupancy(glider_occupancy, True)"
   ]
  },
  {
   "cell_type": "code",
   "execution_count": null,
   "metadata": {},
   "outputs": [],
   "source": [
    "analyseHeat(glider_heat, True)"
   ]
  },
  {
   "cell_type": "markdown",
   "metadata": {},
   "source": [
    "# Oscillator example\n",
    "In this section we study a particular pattern (Pulsar3) of the cateogry _Oscillator_: Patterns which return to their initial state after a finite number of generations."
   ]
  },
  {
   "cell_type": "code",
   "execution_count": null,
   "metadata": {},
   "outputs": [],
   "source": [
    "# Load patterns from file.\n",
    "pulsar = 'pulsar_cells.cells.txt'\n",
    "pulsar_grid = loadPattern(pulsar, 25,25, (5,5))\n",
    "\n",
    "# Original configuration\n",
    "pulsar_igrid = pulsar_grid.copy() \n",
    "\n",
    "# List of cycle flags:\n",
    "# 1 if the pattern returned to the original configuration at i-th step; \n",
    "# 0 otherwise\n",
    "pulsar_cycle = []\n",
    "\n",
    "# How many alive cells at each step\n",
    "pulsar_occupancy = []\n",
    "\n",
    "# How many cells change state at each step\n",
    "pulsar_heat = [];\n",
    "\n",
    "# Plot initial seed\n",
    "fig, ax = plt.subplots()\n",
    "img = ax.imshow(pulsar_grid, interpolation='nearest')\n",
    "plt.plot()\n",
    "\n",
    "# Set up the animation\n",
    "pulsar_out = animation.FuncAnimation(fig, \n",
    "                            partial(update, img = img, grid = pulsar_grid, initial_grid = pulsar_igrid, \n",
    "                                    cycle = pulsar_cycle, occupancy = pulsar_occupancy, heat = pulsar_heat),\n",
    "                            frames = n_steps, interval = inter,\n",
    "                            init_func = lambda: saveFrame(0, img))"
   ]
  },
  {
   "cell_type": "code",
   "execution_count": null,
   "metadata": {},
   "outputs": [],
   "source": [
    "# Save and show animation\n",
    "gif_name = 'pulsar_period3.gif'\n",
    "pulsar_out.save(gif_name, writer='pillow', fps=2)\n",
    "\n",
    "Image(url=gif_name)"
   ]
  },
  {
   "cell_type": "markdown",
   "metadata": {},
   "source": [
    "## Analysis\n",
    "TODO: add comment"
   ]
  },
  {
   "cell_type": "code",
   "execution_count": null,
   "metadata": {},
   "outputs": [],
   "source": [
    "analyseOccupancy(pulsar_occupancy, True)"
   ]
  },
  {
   "cell_type": "code",
   "execution_count": null,
   "metadata": {},
   "outputs": [],
   "source": [
    "analyseHeat(pulsar_heat, True)"
   ]
  },
  {
   "cell_type": "code",
   "execution_count": null,
   "metadata": {},
   "outputs": [],
   "source": [
    "analyseCycle(pulsar_cycle)"
   ]
  },
  {
   "cell_type": "markdown",
   "metadata": {},
   "source": [
    "# Complex pattern\n",
    "TODO: find a more big and complex pattern and analyse it."
   ]
  }
 ],
 "metadata": {
  "kernelspec": {
   "display_name": "Python 3 (ipykernel)",
   "language": "python",
   "name": "python3"
  },
  "language_info": {
   "codemirror_mode": {
    "name": "ipython",
    "version": 3
   },
   "file_extension": ".py",
   "mimetype": "text/x-python",
   "name": "python",
   "nbconvert_exporter": "python",
   "pygments_lexer": "ipython3",
   "version": "3.11.6"
  }
 },
 "nbformat": 4,
 "nbformat_minor": 4
}
